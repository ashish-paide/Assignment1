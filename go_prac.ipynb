{
 "cells": [
  {
   "cell_type": "code",
   "execution_count": 16,
   "metadata": {},
   "outputs": [],
   "source": [
    "package main\n",
    "\n",
    "import (\n",
    "\t\"time\"\n",
    "\t\"fmt\"\n",
    "\t//\"strings\"\n",
    "\t\"strconv\"\n",
    "\t\"github.com/syndtr/goleveldb/leveldb\"\n",
    ")\n",
    "\n",
    "func intToString(num int) string {\n",
    "\treturn  strconv.Itoa(num)\n",
    "}\n",
    "\n",
    "type block struct{\n",
    "\tblockNo int32\n",
    "\tprevBlockHash int64\n",
    "\ttracsactions[] struct{\n",
    "\t\tID int32\n",
    "\t\tversion float64\n",
    "\t\tvalid bool\t\n",
    "\t}\n",
    "\ttimeStamp time.Time\n",
    "}\n",
    "\n",
    "\n",
    "\n",
    "\n"
   ]
  },
  {
   "cell_type": "code",
   "execution_count": 17,
   "metadata": {},
   "outputs": [
    {
     "ename": "ERROR",
     "evalue": "repl.go:2:13: package  \"github.com/syndtr/goleveldb/leveldb\" has no symbol OpenFile",
     "output_type": "error",
     "traceback": [
      "repl.go:2:13: package  \"github.com/syndtr/goleveldb/leveldb\" has no symbol OpenFile"
     ]
    }
   ],
   "source": [
    "func main() {\n",
    "\tdb, err := leveldb.OpenFile(\"db\", nil)\n",
    "\tfor i := 1 ; i <= 1000 ; i++{\n",
    "\t\tkey := \"SIM\" + intToString(i) \n",
    "\t\terr = db.Put([]byte(key), []byte(\"\") , nil)\n",
    "\t\tif(err != nil){\n",
    "\t\t\tfmt.Println(\"whach out\" , i)\n",
    "\t\t}\n",
    "\t}\n",
    "\tfmt.Println(\"done with here\")\n",
    "\n",
    "\titer := db.NewIterator(nil, nil)\n",
    "\tfor iter.Next() {\n",
    "\t\tfmt.Println(string(iter.Key()))\n",
    "\t}\n",
    "\n",
    "}\n"
   ]
  },
  {
   "cell_type": "code",
   "execution_count": null,
   "metadata": {},
   "outputs": [],
   "source": []
  }
 ],
 "metadata": {
  "kernelspec": {
   "display_name": "Go",
   "language": "go",
   "name": "gophernotes"
  },
  "language_info": {
   "name": "go"
  },
  "orig_nbformat": 4
 },
 "nbformat": 4,
 "nbformat_minor": 2
}
